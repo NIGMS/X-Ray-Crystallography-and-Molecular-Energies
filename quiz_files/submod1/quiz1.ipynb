{
 "cells": [
  {
   "cell_type": "code",
   "execution_count": null,
   "id": "e4cbfe67-a77a-40ee-835c-51f535631756",
   "metadata": {},
   "outputs": [],
   "source": [
    "#Install and load jupyterquiz library\n",
    "%pip install jupyterquiz --quiet"
   ]
  },
  {
   "cell_type": "code",
   "execution_count": null,
   "id": "93b1f5f7-a855-46c3-83e7-69fa0fb460cd",
   "metadata": {},
   "outputs": [],
   "source": [
    "from jupyterquiz import display_quiz\n",
    "display_quiz(\"quiz1.json\")"
   ]
  },
  {
   "cell_type": "code",
   "execution_count": null,
   "id": "88ae4150-c704-4823-ae7d-78d2abceadf3",
   "metadata": {},
   "outputs": [],
   "source": []
  }
 ],
 "metadata": {
  "kernelspec": {
   "display_name": "conda_tensorflow2_p310",
   "language": "python",
   "name": "conda_tensorflow2_p310"
  },
  "language_info": {
   "codemirror_mode": {
    "name": "ipython",
    "version": 3
   },
   "file_extension": ".py",
   "mimetype": "text/x-python",
   "name": "python",
   "nbconvert_exporter": "python",
   "pygments_lexer": "ipython3",
   "version": "3.10.16"
  }
 },
 "nbformat": 4,
 "nbformat_minor": 5
}
