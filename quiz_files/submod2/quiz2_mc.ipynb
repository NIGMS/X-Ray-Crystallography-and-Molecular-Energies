{
 "cells": [
  {
   "cell_type": "code",
   "execution_count": null,
   "id": "d8920a69-43b4-44cb-87fa-48333f947adb",
   "metadata": {},
   "outputs": [],
   "source": [
    "#Install and load jupyterquiz library\n",
    "%pip install jupyterquiz --quiet"
   ]
  },
  {
   "cell_type": "code",
   "execution_count": null,
   "id": "efbbb867-2462-4ff4-afbb-cfb66f6ff456",
   "metadata": {},
   "outputs": [],
   "source": [
    "from jupyterquiz import display_quiz\n",
    "display_quiz(\"../submod3/quiz3_q1.json\")"
   ]
  }
 ],
 "metadata": {
  "kernelspec": {
   "display_name": "conda_tensorflow2_p310",
   "language": "python",
   "name": "conda_tensorflow2_p310"
  },
  "language_info": {
   "codemirror_mode": {
    "name": "ipython",
    "version": 3
   },
   "file_extension": ".py",
   "mimetype": "text/x-python",
   "name": "python",
   "nbconvert_exporter": "python",
   "pygments_lexer": "ipython3",
   "version": "3.10.16"
  }
 },
 "nbformat": 4,
 "nbformat_minor": 5
}
